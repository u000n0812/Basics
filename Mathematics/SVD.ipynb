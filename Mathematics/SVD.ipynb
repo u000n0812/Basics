{
 "cells": [
  {
   "cell_type": "markdown",
   "id": "a6c9651b",
   "metadata": {},
   "source": [
    "Eigendecomposition은 n$\\cdot$n matrix만 쓸 수 있고, symmetric이어야만 쓸 수 있다. 그런데 SVD는 어느 matrix에나 다 쓸 수 있다.  \n",
    "\n",
    "$$\n",
    "A = U \\Sigma V^T\n",
    "$$\n",
    "\n",
    "위에서 U는 m$\\cdot$m, $\\Sigma$는 m$\\cdot$n, $V^T$는 n$\\cdot$n이다.  \n",
    "\n",
    "왜 이게 가능한가? $AA^T$와 $A^TA$는 square면서 symmetric일 수 밖에 없다. symmetric이면 diagonalizable하므로, $Q \\Lambda Q^T$로 정의할 수 있다.  \n",
    "\n",
    "$A = U \\Sigma V^T$이면 $AA^T = U \\Sigma \\Sigma^T U^T = Q \\Lambda \\Lambda^T Q^T$이다. 또한 $A^T A = V \\Sigma^T \\Sigma V^T$이다. 즉, $A^T A$와 $A A^T$를 이용해 $U$와 $V$를 구할 수 있다.  \n",
    "\n",
    "$\\Sigma$는 어떻게 구하는가? $\\Sigma \\Sigma^T$는 대각원소가 $\\sigma_i^2$인 matrix($A A^T$의 eigenvalue) 등으로 계산이 되는데, 여기서 양의 제곱근을 구하면 $\\Sigma$가 계산된다. 이것들을 singular value라고 부른다. 이때 U는 left singular value, V는 right singular value를 담고 있다고 말한다."
   ]
  },
  {
   "cell_type": "markdown",
   "id": "654dbe76",
   "metadata": {},
   "source": [
    "중요한 특징을 알아보자.  \n",
    "\n",
    "$rank(A A^T) = rank(A) = rank(A^T A)$이다. ($rank$ : # of non-zero singular value)  \n",
    "\n",
    "또한, $A = U \\Sigma V^T \\rightarrow AV = U \\Sigma$이므로, $Av_1 = \\sigma_1 u_1, \\; Av_2 = \\sigma_2 u_2 \\cdots$이다. 그런데 $v_1$과 $v_2$는 수직이고, $u_1, u_2$는 수직이므로 얘들도 서로 orthogonal한다.  \n",
    "\n",
    "그러면 어떤 임의의 벡터 x가 A를 통과한다는 것은 $U \\Sigma V^T x$인데, 선형변환으로 생각해보면 $V, U$가 orthogonal이니까 $det(U U^T) = 1 \\rightarrow det(U)^2 = 1$이다. $V$도 마찬가지.  \n",
    "\n",
    "그리고 orthogonal matrix의 eigenvalue는 무조건 -1, +1이다."
   ]
  }
 ],
 "metadata": {
  "kernelspec": {
   "display_name": "Python 3 (ipykernel)",
   "language": "python",
   "name": "python3"
  },
  "language_info": {
   "codemirror_mode": {
    "name": "ipython",
    "version": 3
   },
   "file_extension": ".py",
   "mimetype": "text/x-python",
   "name": "python",
   "nbconvert_exporter": "python",
   "pygments_lexer": "ipython3",
   "version": "3.9.7"
  }
 },
 "nbformat": 4,
 "nbformat_minor": 5
}
