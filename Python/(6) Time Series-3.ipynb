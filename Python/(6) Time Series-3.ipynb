{
 "cells": [
  {
   "cell_type": "code",
   "execution_count": 1,
   "id": "bb5af6c6",
   "metadata": {},
   "outputs": [
    {
     "data": {
      "text/html": [
       "<div>\n",
       "<style scoped>\n",
       "    .dataframe tbody tr th:only-of-type {\n",
       "        vertical-align: middle;\n",
       "    }\n",
       "\n",
       "    .dataframe tbody tr th {\n",
       "        vertical-align: top;\n",
       "    }\n",
       "\n",
       "    .dataframe thead th {\n",
       "        text-align: right;\n",
       "    }\n",
       "</style>\n",
       "<table border=\"1\" class=\"dataframe\">\n",
       "  <thead>\n",
       "    <tr style=\"text-align: right;\">\n",
       "      <th></th>\n",
       "      <th>date</th>\n",
       "      <th>Appliances</th>\n",
       "    </tr>\n",
       "  </thead>\n",
       "  <tbody>\n",
       "    <tr>\n",
       "      <th>0</th>\n",
       "      <td>2016-01-11 17:00:00</td>\n",
       "      <td>60</td>\n",
       "    </tr>\n",
       "    <tr>\n",
       "      <th>1</th>\n",
       "      <td>2016-01-11 17:10:00</td>\n",
       "      <td>60</td>\n",
       "    </tr>\n",
       "    <tr>\n",
       "      <th>2</th>\n",
       "      <td>2016-01-11 17:20:00</td>\n",
       "      <td>50</td>\n",
       "    </tr>\n",
       "    <tr>\n",
       "      <th>3</th>\n",
       "      <td>2016-01-11 17:30:00</td>\n",
       "      <td>50</td>\n",
       "    </tr>\n",
       "    <tr>\n",
       "      <th>4</th>\n",
       "      <td>2016-01-11 17:40:00</td>\n",
       "      <td>60</td>\n",
       "    </tr>\n",
       "  </tbody>\n",
       "</table>\n",
       "</div>"
      ],
      "text/plain": [
       "                 date  Appliances\n",
       "0 2016-01-11 17:00:00          60\n",
       "1 2016-01-11 17:10:00          60\n",
       "2 2016-01-11 17:20:00          50\n",
       "3 2016-01-11 17:30:00          50\n",
       "4 2016-01-11 17:40:00          60"
      ]
     },
     "execution_count": 1,
     "metadata": {},
     "output_type": "execute_result"
    }
   ],
   "source": [
    "import pandas as pd\n",
    "\n",
    "dat_df = pd.read_csv('C:/Users/jy990/OneDrive/바탕 화면/뇌/2022/2022/Python/머신러닝데이터 전처리입문/데이터셋/chap3_4_6_7_A1-5/chap6/data/energydata.csv', sep=',')[['date', 'Appliances']]\n",
    "dat_df['date'] = pd.to_datetime(dat_df['date'], format='%Y-%m-%d %H:%M:%S')\n",
    "\n",
    "dat_df.head()"
   ]
  },
  {
   "cell_type": "code",
   "execution_count": 2,
   "id": "a4252711",
   "metadata": {},
   "outputs": [
    {
     "data": {
      "text/plain": [
       "<function matplotlib.pyplot.show(close=None, block=None)>"
      ]
     },
     "execution_count": 2,
     "metadata": {},
     "output_type": "execute_result"
    },
    {
     "data": {
      "image/png": "[encoded data removed]",
      "text/plain": [
       "<Figure size 432x288 with 1 Axes>"
      ]
     },
     "metadata": {
      "needs_background": "light"
     },
     "output_type": "display_data"
    }
   ],
   "source": [
    "import matplotlib.pyplot as plt\n",
    "%matplotlib inline\n",
    "\n",
    "plt.plot(dat_df['date'], dat_df['Appliances'])\n",
    "plt.xlabel('date')\n",
    "plt.xticks(rotation=30) # x축 레이블이 겹쳐서 30도 회전시켰다.\n",
    "plt.ylabel('Appliances')\n",
    "plt.show"
   ]
  },
  {
   "cell_type": "code",
   "execution_count": 3,
   "id": "2e2a4b6b",
   "metadata": {},
   "outputs": [
    {
     "name": "stdout",
     "output_type": "stream",
     "text": [
      "(13104, 2)\n",
      "(4320, 2)\n"
     ]
    }
   ],
   "source": [
    "train = dat_df[dat_df['date'] < '2016-04-11 17:00:00']\n",
    "print(train.shape)\n",
    "\n",
    "test = dat_df[dat_df['date'] >= '2016-04-11 17:00:00']\n",
    "print(test.shape)"
   ]
  },
  {
   "cell_type": "code",
   "execution_count": 4,
   "id": "bb94e8f0",
   "metadata": {},
   "outputs": [],
   "source": [
    "from sklearn.preprocessing import MinMaxScaler\n",
    "\n",
    "mc = MinMaxScaler()\n",
    "train = mc.fit_transform(train[['Appliances']])\n",
    "test = mc.fit_transform(test[['Appliances']]) # 데이터 값이 0에서 1 사이가 되도록 정규화한다."
   ]
  },
  {
   "cell_type": "code",
   "execution_count": 5,
   "id": "f3701b1a",
   "metadata": {},
   "outputs": [
    {
     "name": "stdout",
     "output_type": "stream",
     "text": [
      "(12960, 144)\n"
     ]
    },
    {
     "data": {
      "text/html": [
       "<div>\n",
       "<style scoped>\n",
       "    .dataframe tbody tr th:only-of-type {\n",
       "        vertical-align: middle;\n",
       "    }\n",
       "\n",
       "    .dataframe tbody tr th {\n",
       "        vertical-align: top;\n",
       "    }\n",
       "\n",
       "    .dataframe thead th {\n",
       "        text-align: right;\n",
       "    }\n",
       "</style>\n",
       "<table border=\"1\" class=\"dataframe\">\n",
       "  <thead>\n",
       "    <tr style=\"text-align: right;\">\n",
       "      <th></th>\n",
       "      <th>0</th>\n",
       "      <th>1</th>\n",
       "      <th>2</th>\n",
       "      <th>3</th>\n",
       "      <th>4</th>\n",
       "      <th>5</th>\n",
       "      <th>6</th>\n",
       "      <th>7</th>\n",
       "      <th>8</th>\n",
       "      <th>9</th>\n",
       "      <th>...</th>\n",
       "      <th>134</th>\n",
       "      <th>135</th>\n",
       "      <th>136</th>\n",
       "      <th>137</th>\n",
       "      <th>138</th>\n",
       "      <th>139</th>\n",
       "      <th>140</th>\n",
       "      <th>141</th>\n",
       "      <th>142</th>\n",
       "      <th>143</th>\n",
       "    </tr>\n",
       "  </thead>\n",
       "  <tbody>\n",
       "    <tr>\n",
       "      <th>0</th>\n",
       "      <td>0.046729</td>\n",
       "      <td>0.046729</td>\n",
       "      <td>0.037383</td>\n",
       "      <td>0.037383</td>\n",
       "      <td>0.046729</td>\n",
       "      <td>0.037383</td>\n",
       "      <td>0.046729</td>\n",
       "      <td>0.046729</td>\n",
       "      <td>0.046729</td>\n",
       "      <td>0.056075</td>\n",
       "      <td>...</td>\n",
       "      <td>0.028037</td>\n",
       "      <td>0.018692</td>\n",
       "      <td>0.018692</td>\n",
       "      <td>0.018692</td>\n",
       "      <td>0.018692</td>\n",
       "      <td>0.028037</td>\n",
       "      <td>0.037383</td>\n",
       "      <td>0.028037</td>\n",
       "      <td>0.028037</td>\n",
       "      <td>0.028037</td>\n",
       "    </tr>\n",
       "    <tr>\n",
       "      <th>1</th>\n",
       "      <td>0.046729</td>\n",
       "      <td>0.037383</td>\n",
       "      <td>0.037383</td>\n",
       "      <td>0.046729</td>\n",
       "      <td>0.037383</td>\n",
       "      <td>0.046729</td>\n",
       "      <td>0.046729</td>\n",
       "      <td>0.046729</td>\n",
       "      <td>0.056075</td>\n",
       "      <td>0.205607</td>\n",
       "      <td>...</td>\n",
       "      <td>0.018692</td>\n",
       "      <td>0.018692</td>\n",
       "      <td>0.018692</td>\n",
       "      <td>0.018692</td>\n",
       "      <td>0.028037</td>\n",
       "      <td>0.037383</td>\n",
       "      <td>0.028037</td>\n",
       "      <td>0.028037</td>\n",
       "      <td>0.028037</td>\n",
       "      <td>0.046729</td>\n",
       "    </tr>\n",
       "    <tr>\n",
       "      <th>2</th>\n",
       "      <td>0.037383</td>\n",
       "      <td>0.037383</td>\n",
       "      <td>0.046729</td>\n",
       "      <td>0.037383</td>\n",
       "      <td>0.046729</td>\n",
       "      <td>0.046729</td>\n",
       "      <td>0.046729</td>\n",
       "      <td>0.056075</td>\n",
       "      <td>0.205607</td>\n",
       "      <td>0.532710</td>\n",
       "      <td>...</td>\n",
       "      <td>0.018692</td>\n",
       "      <td>0.018692</td>\n",
       "      <td>0.018692</td>\n",
       "      <td>0.028037</td>\n",
       "      <td>0.037383</td>\n",
       "      <td>0.028037</td>\n",
       "      <td>0.028037</td>\n",
       "      <td>0.028037</td>\n",
       "      <td>0.046729</td>\n",
       "      <td>0.046729</td>\n",
       "    </tr>\n",
       "    <tr>\n",
       "      <th>3</th>\n",
       "      <td>0.037383</td>\n",
       "      <td>0.046729</td>\n",
       "      <td>0.037383</td>\n",
       "      <td>0.046729</td>\n",
       "      <td>0.046729</td>\n",
       "      <td>0.046729</td>\n",
       "      <td>0.056075</td>\n",
       "      <td>0.205607</td>\n",
       "      <td>0.532710</td>\n",
       "      <td>0.392523</td>\n",
       "      <td>...</td>\n",
       "      <td>0.018692</td>\n",
       "      <td>0.018692</td>\n",
       "      <td>0.028037</td>\n",
       "      <td>0.037383</td>\n",
       "      <td>0.028037</td>\n",
       "      <td>0.028037</td>\n",
       "      <td>0.028037</td>\n",
       "      <td>0.046729</td>\n",
       "      <td>0.046729</td>\n",
       "      <td>0.186916</td>\n",
       "    </tr>\n",
       "    <tr>\n",
       "      <th>4</th>\n",
       "      <td>0.046729</td>\n",
       "      <td>0.037383</td>\n",
       "      <td>0.046729</td>\n",
       "      <td>0.046729</td>\n",
       "      <td>0.046729</td>\n",
       "      <td>0.056075</td>\n",
       "      <td>0.205607</td>\n",
       "      <td>0.532710</td>\n",
       "      <td>0.392523</td>\n",
       "      <td>0.224299</td>\n",
       "      <td>...</td>\n",
       "      <td>0.018692</td>\n",
       "      <td>0.028037</td>\n",
       "      <td>0.037383</td>\n",
       "      <td>0.028037</td>\n",
       "      <td>0.028037</td>\n",
       "      <td>0.028037</td>\n",
       "      <td>0.046729</td>\n",
       "      <td>0.046729</td>\n",
       "      <td>0.186916</td>\n",
       "      <td>0.345794</td>\n",
       "    </tr>\n",
       "  </tbody>\n",
       "</table>\n",
       "<p>5 rows × 144 columns</p>\n",
       "</div>"
      ],
      "text/plain": [
       "        0         1         2         3         4         5         6    \\\n",
       "0  0.046729  0.046729  0.037383  0.037383  0.046729  0.037383  0.046729   \n",
       "1  0.046729  0.037383  0.037383  0.046729  0.037383  0.046729  0.046729   \n",
       "2  0.037383  0.037383  0.046729  0.037383  0.046729  0.046729  0.046729   \n",
       "3  0.037383  0.046729  0.037383  0.046729  0.046729  0.046729  0.056075   \n",
       "4  0.046729  0.037383  0.046729  0.046729  0.046729  0.056075  0.205607   \n",
       "\n",
       "        7         8         9    ...       134       135       136       137  \\\n",
       "0  0.046729  0.046729  0.056075  ...  0.028037  0.018692  0.018692  0.018692   \n",
       "1  0.046729  0.056075  0.205607  ...  0.018692  0.018692  0.018692  0.018692   \n",
       "2  0.056075  0.205607  0.532710  ...  0.018692  0.018692  0.018692  0.028037   \n",
       "3  0.205607  0.532710  0.392523  ...  0.018692  0.018692  0.028037  0.037383   \n",
       "4  0.532710  0.392523  0.224299  ...  0.018692  0.028037  0.037383  0.028037   \n",
       "\n",
       "        138       139       140       141       142       143  \n",
       "0  0.018692  0.028037  0.037383  0.028037  0.028037  0.028037  \n",
       "1  0.028037  0.037383  0.028037  0.028037  0.028037  0.046729  \n",
       "2  0.037383  0.028037  0.028037  0.028037  0.046729  0.046729  \n",
       "3  0.028037  0.028037  0.028037  0.046729  0.046729  0.186916  \n",
       "4  0.028037  0.028037  0.046729  0.046729  0.186916  0.345794  \n",
       "\n",
       "[5 rows x 144 columns]"
      ]
     },
     "execution_count": 5,
     "metadata": {},
     "output_type": "execute_result"
    }
   ],
   "source": [
    "width = 144\n",
    "train = train.flatten()\n",
    "train_vec=[]\n",
    "\n",
    "for i in range(len(train)-width) :\n",
    "    train_vec.append(train[i:i+width]) # 슬라이드 창을 옮겨가며 부분시계열을 작성한다.\n",
    "\n",
    "print(pd.DataFrame(train_vec).shape)\n",
    "pd.DataFrame(train_vec).head()"
   ]
  },
  {
   "cell_type": "code",
   "execution_count": 6,
   "id": "ad126dfc",
   "metadata": {},
   "outputs": [
    {
     "name": "stdout",
     "output_type": "stream",
     "text": [
      "(4176, 144)\n"
     ]
    },
    {
     "data": {
      "text/html": [
       "<div>\n",
       "<style scoped>\n",
       "    .dataframe tbody tr th:only-of-type {\n",
       "        vertical-align: middle;\n",
       "    }\n",
       "\n",
       "    .dataframe tbody tr th {\n",
       "        vertical-align: top;\n",
       "    }\n",
       "\n",
       "    .dataframe thead th {\n",
       "        text-align: right;\n",
       "    }\n",
       "</style>\n",
       "<table border=\"1\" class=\"dataframe\">\n",
       "  <thead>\n",
       "    <tr style=\"text-align: right;\">\n",
       "      <th></th>\n",
       "      <th>0</th>\n",
       "      <th>1</th>\n",
       "      <th>2</th>\n",
       "      <th>3</th>\n",
       "      <th>4</th>\n",
       "      <th>5</th>\n",
       "      <th>6</th>\n",
       "      <th>7</th>\n",
       "      <th>8</th>\n",
       "      <th>9</th>\n",
       "      <th>...</th>\n",
       "      <th>134</th>\n",
       "      <th>135</th>\n",
       "      <th>136</th>\n",
       "      <th>137</th>\n",
       "      <th>138</th>\n",
       "      <th>139</th>\n",
       "      <th>140</th>\n",
       "      <th>141</th>\n",
       "      <th>142</th>\n",
       "      <th>143</th>\n",
       "    </tr>\n",
       "  </thead>\n",
       "  <tbody>\n",
       "    <tr>\n",
       "      <th>0</th>\n",
       "      <td>0.070588</td>\n",
       "      <td>0.070588</td>\n",
       "      <td>0.341176</td>\n",
       "      <td>0.400000</td>\n",
       "      <td>0.411765</td>\n",
       "      <td>0.129412</td>\n",
       "      <td>0.082353</td>\n",
       "      <td>0.105882</td>\n",
       "      <td>0.105882</td>\n",
       "      <td>0.094118</td>\n",
       "      <td>...</td>\n",
       "      <td>0.035294</td>\n",
       "      <td>0.047059</td>\n",
       "      <td>0.047059</td>\n",
       "      <td>0.035294</td>\n",
       "      <td>0.058824</td>\n",
       "      <td>0.047059</td>\n",
       "      <td>0.047059</td>\n",
       "      <td>0.058824</td>\n",
       "      <td>0.082353</td>\n",
       "      <td>0.435294</td>\n",
       "    </tr>\n",
       "    <tr>\n",
       "      <th>1</th>\n",
       "      <td>0.070588</td>\n",
       "      <td>0.341176</td>\n",
       "      <td>0.400000</td>\n",
       "      <td>0.411765</td>\n",
       "      <td>0.129412</td>\n",
       "      <td>0.082353</td>\n",
       "      <td>0.105882</td>\n",
       "      <td>0.105882</td>\n",
       "      <td>0.094118</td>\n",
       "      <td>0.094118</td>\n",
       "      <td>...</td>\n",
       "      <td>0.047059</td>\n",
       "      <td>0.047059</td>\n",
       "      <td>0.035294</td>\n",
       "      <td>0.058824</td>\n",
       "      <td>0.047059</td>\n",
       "      <td>0.047059</td>\n",
       "      <td>0.058824</td>\n",
       "      <td>0.082353</td>\n",
       "      <td>0.435294</td>\n",
       "      <td>0.235294</td>\n",
       "    </tr>\n",
       "    <tr>\n",
       "      <th>2</th>\n",
       "      <td>0.341176</td>\n",
       "      <td>0.400000</td>\n",
       "      <td>0.411765</td>\n",
       "      <td>0.129412</td>\n",
       "      <td>0.082353</td>\n",
       "      <td>0.105882</td>\n",
       "      <td>0.105882</td>\n",
       "      <td>0.094118</td>\n",
       "      <td>0.094118</td>\n",
       "      <td>0.082353</td>\n",
       "      <td>...</td>\n",
       "      <td>0.047059</td>\n",
       "      <td>0.035294</td>\n",
       "      <td>0.058824</td>\n",
       "      <td>0.047059</td>\n",
       "      <td>0.047059</td>\n",
       "      <td>0.058824</td>\n",
       "      <td>0.082353</td>\n",
       "      <td>0.435294</td>\n",
       "      <td>0.235294</td>\n",
       "      <td>0.129412</td>\n",
       "    </tr>\n",
       "    <tr>\n",
       "      <th>3</th>\n",
       "      <td>0.400000</td>\n",
       "      <td>0.411765</td>\n",
       "      <td>0.129412</td>\n",
       "      <td>0.082353</td>\n",
       "      <td>0.105882</td>\n",
       "      <td>0.105882</td>\n",
       "      <td>0.094118</td>\n",
       "      <td>0.094118</td>\n",
       "      <td>0.082353</td>\n",
       "      <td>0.129412</td>\n",
       "      <td>...</td>\n",
       "      <td>0.035294</td>\n",
       "      <td>0.058824</td>\n",
       "      <td>0.047059</td>\n",
       "      <td>0.047059</td>\n",
       "      <td>0.058824</td>\n",
       "      <td>0.082353</td>\n",
       "      <td>0.435294</td>\n",
       "      <td>0.235294</td>\n",
       "      <td>0.129412</td>\n",
       "      <td>0.529412</td>\n",
       "    </tr>\n",
       "    <tr>\n",
       "      <th>4</th>\n",
       "      <td>0.411765</td>\n",
       "      <td>0.129412</td>\n",
       "      <td>0.082353</td>\n",
       "      <td>0.105882</td>\n",
       "      <td>0.105882</td>\n",
       "      <td>0.094118</td>\n",
       "      <td>0.094118</td>\n",
       "      <td>0.082353</td>\n",
       "      <td>0.129412</td>\n",
       "      <td>0.141176</td>\n",
       "      <td>...</td>\n",
       "      <td>0.058824</td>\n",
       "      <td>0.047059</td>\n",
       "      <td>0.047059</td>\n",
       "      <td>0.058824</td>\n",
       "      <td>0.082353</td>\n",
       "      <td>0.435294</td>\n",
       "      <td>0.235294</td>\n",
       "      <td>0.129412</td>\n",
       "      <td>0.529412</td>\n",
       "      <td>0.705882</td>\n",
       "    </tr>\n",
       "  </tbody>\n",
       "</table>\n",
       "<p>5 rows × 144 columns</p>\n",
       "</div>"
      ],
      "text/plain": [
       "        0         1         2         3         4         5         6    \\\n",
       "0  0.070588  0.070588  0.341176  0.400000  0.411765  0.129412  0.082353   \n",
       "1  0.070588  0.341176  0.400000  0.411765  0.129412  0.082353  0.105882   \n",
       "2  0.341176  0.400000  0.411765  0.129412  0.082353  0.105882  0.105882   \n",
       "3  0.400000  0.411765  0.129412  0.082353  0.105882  0.105882  0.094118   \n",
       "4  0.411765  0.129412  0.082353  0.105882  0.105882  0.094118  0.094118   \n",
       "\n",
       "        7         8         9    ...       134       135       136       137  \\\n",
       "0  0.105882  0.105882  0.094118  ...  0.035294  0.047059  0.047059  0.035294   \n",
       "1  0.105882  0.094118  0.094118  ...  0.047059  0.047059  0.035294  0.058824   \n",
       "2  0.094118  0.094118  0.082353  ...  0.047059  0.035294  0.058824  0.047059   \n",
       "3  0.094118  0.082353  0.129412  ...  0.035294  0.058824  0.047059  0.047059   \n",
       "4  0.082353  0.129412  0.141176  ...  0.058824  0.047059  0.047059  0.058824   \n",
       "\n",
       "        138       139       140       141       142       143  \n",
       "0  0.058824  0.047059  0.047059  0.058824  0.082353  0.435294  \n",
       "1  0.047059  0.047059  0.058824  0.082353  0.435294  0.235294  \n",
       "2  0.047059  0.058824  0.082353  0.435294  0.235294  0.129412  \n",
       "3  0.058824  0.082353  0.435294  0.235294  0.129412  0.529412  \n",
       "4  0.082353  0.435294  0.235294  0.129412  0.529412  0.705882  \n",
       "\n",
       "[5 rows x 144 columns]"
      ]
     },
     "execution_count": 6,
     "metadata": {},
     "output_type": "execute_result"
    }
   ],
   "source": [
    "test = test.flatten()\n",
    "test_vec = []\n",
    "\n",
    "for i in range(len(test)-width) :\n",
    "    test_vec.append(test[i:i+width])\n",
    "    \n",
    "print(pd.DataFrame(test_vec).shape)\n",
    "pd.DataFrame(test_vec).head()"
   ]
  },
  {
   "cell_type": "code",
   "execution_count": 7,
   "id": "339db503",
   "metadata": {
    "scrolled": false
   },
   "outputs": [
    {
     "data": {
      "image/png": "[encoded data removed]",
      "text/plain": [
       "<Figure size 432x288 with 1 Axes>"
      ]
     },
     "metadata": {
      "needs_background": "light"
     },
     "output_type": "display_data"
    }
   ],
   "source": [
    "from sklearn.neighbors import NearestNeighbors\n",
    "import numpy as np\n",
    "train_vec = np.array(train_vec)\n",
    "test_vec = np.array(test_vec)\n",
    "\n",
    "model = NearestNeighbors(n_neighbors=1) # 가장 가까운 파형과 거리를 측정하는 k-NN 모델을 작성한다. k=1\n",
    "model.fit(train_vec)\n",
    "\n",
    "dist, _ = model.kneighbors(test_vec) \n",
    "dist = dist/np.max(dist) # 작성한 모델을 테스트 데이터에 적용하고 거리를 측정한다. 그리고 거리를 정규화한다.\n",
    "\n",
    "plt.plot(dist)\n",
    "plt.show()"
   ]
  },
  {
   "cell_type": "code",
   "execution_count": 9,
   "id": "db277834",
   "metadata": {},
   "outputs": [
    {
     "name": "stdout",
     "output_type": "stream",
     "text": [
      "Model: \"sequential\"\n",
      "_________________________________________________________________\n",
      " Layer (type)                Output Shape              Param #   \n",
      "=================================================================\n",
      " dense (Dense)               (None, 128)               18560     \n",
      "                                                                 \n",
      " dense_1 (Dense)             (None, 64)                8256      \n",
      "                                                                 \n",
      " dense_2 (Dense)             (None, 32)                2080      \n",
      "                                                                 \n",
      " dense_3 (Dense)             (None, 64)                2112      \n",
      "                                                                 \n",
      " dense_4 (Dense)             (None, 128)               8320      \n",
      "                                                                 \n",
      " dense_5 (Dense)             (None, 144)               18576     \n",
      "                                                                 \n",
      "=================================================================\n",
      "Total params: 57,904\n",
      "Trainable params: 57,904\n",
      "Non-trainable params: 0\n",
      "_________________________________________________________________\n"
     ]
    }
   ],
   "source": [
    "from keras.models import Sequential\n",
    "from keras.layers import Dense\n",
    "\n",
    "model = Sequential() # Sequential 모델 작성\n",
    "model.add(Dense(128, activation='relu', input_shape=(144,))) # 입력층 144 설정\n",
    "model.add(Dense(64, activation='relu'))\n",
    "model.add(Dense(32, activation='relu'))\n",
    "model.add(Dense(64, activation='relu'))\n",
    "model.add(Dense(128, activation='relu')) # 중간층 5개 만들고 활성화 함수로 relu 사용\n",
    "model.add(Dense(144, activation='sigmoid')) # 출력층은 입력과 마찬가지로 노드수 144이고 활성화함수로 sigmoid 사용\n",
    "\n",
    "model.summary() # 작성한 네트워크 확인"
   ]
  },
  {
   "cell_type": "code",
   "execution_count": 10,
   "id": "1bf6022f",
   "metadata": {},
   "outputs": [
    {
     "name": "stdout",
     "output_type": "stream",
     "text": [
      "Epoch 1/20\n",
      "81/81 [==============================] - 1s 8ms/step - loss: 0.0509 - val_loss: 0.0169\n",
      "Epoch 2/20\n",
      "81/81 [==============================] - 0s 5ms/step - loss: 0.0167 - val_loss: 0.0169\n",
      "Epoch 3/20\n",
      "81/81 [==============================] - 0s 5ms/step - loss: 0.0167 - val_loss: 0.0167\n",
      "Epoch 4/20\n",
      "81/81 [==============================] - 0s 4ms/step - loss: 0.0150 - val_loss: 0.0142\n",
      "Epoch 5/20\n",
      "81/81 [==============================] - 0s 4ms/step - loss: 0.0110 - val_loss: 0.0086\n",
      "Epoch 6/20\n",
      "81/81 [==============================] - 0s 4ms/step - loss: 0.0089 - val_loss: 0.0070\n",
      "Epoch 7/20\n",
      "81/81 [==============================] - 0s 4ms/step - loss: 0.0075 - val_loss: 0.0056\n",
      "Epoch 8/20\n",
      "81/81 [==============================] - 0s 4ms/step - loss: 0.0070 - val_loss: 0.0055\n",
      "Epoch 9/20\n",
      "81/81 [==============================] - 0s 4ms/step - loss: 0.0068 - val_loss: 0.0053\n",
      "Epoch 10/20\n",
      "81/81 [==============================] - 0s 4ms/step - loss: 0.0062 - val_loss: 0.0051\n",
      "Epoch 11/20\n",
      "81/81 [==============================] - 0s 4ms/step - loss: 0.0058 - val_loss: 0.0049\n",
      "Epoch 12/20\n",
      "81/81 [==============================] - 0s 4ms/step - loss: 0.0056 - val_loss: 0.0047\n",
      "Epoch 13/20\n",
      "81/81 [==============================] - 0s 4ms/step - loss: 0.0054 - val_loss: 0.0046\n",
      "Epoch 14/20\n",
      "81/81 [==============================] - 0s 4ms/step - loss: 0.0052 - val_loss: 0.0044\n",
      "Epoch 15/20\n",
      "81/81 [==============================] - 0s 4ms/step - loss: 0.0049 - val_loss: 0.0043\n",
      "Epoch 16/20\n",
      "81/81 [==============================] - 0s 4ms/step - loss: 0.0047 - val_loss: 0.0041\n",
      "Epoch 17/20\n",
      "81/81 [==============================] - 0s 4ms/step - loss: 0.0045 - val_loss: 0.0040\n",
      "Epoch 18/20\n",
      "81/81 [==============================] - 0s 4ms/step - loss: 0.0044 - val_loss: 0.0039\n",
      "Epoch 19/20\n",
      "81/81 [==============================] - 0s 4ms/step - loss: 0.0043 - val_loss: 0.0038\n",
      "Epoch 20/20\n",
      "81/81 [==============================] - 0s 4ms/step - loss: 0.0042 - val_loss: 0.0037\n"
     ]
    }
   ],
   "source": [
    "model.compile(loss='mse', optimizer='adam') # 학습 조건을 설정한다. 오차함수 loss는 MSE로 설정하고, 최적화 방법은 adam으로 설정한다.\n",
    "hist = model.fit(train_vec, train_vec, batch_size=128, verbose=1, epochs=20, validation_split=0.2)\n",
    "# 설명변수 train_vec, 목적변수 train_vec, 미니 배치수 128, 학습 상황의 진척도 표시 형식을 1(ver로 표시), Epoch 수 20, 훈련데이터 중\n",
    "# 검증에 사용하는 데이터의 비율을 0.2로 설정한다."
   ]
  },
  {
   "cell_type": "code",
   "execution_count": 14,
   "id": "29742f4b",
   "metadata": {},
   "outputs": [
    {
     "data": {
      "image/png": "[encoded data removed]",
      "text/plain": [
       "<Figure size 432x288 with 1 Axes>"
      ]
     },
     "metadata": {
      "needs_background": "light"
     },
     "output_type": "display_data"
    }
   ],
   "source": [
    "plt.plot(hist.history['loss'], label='loss')\n",
    "plt.plot(hist.history['val_loss'], label='val_loss')\n",
    "plt.ylabel('loss')\n",
    "plt.xlabel('epoch')\n",
    "plt.legend()\n",
    "plt.show()"
   ]
  },
  {
   "cell_type": "code",
   "execution_count": 15,
   "id": "32d17d2c",
   "metadata": {},
   "outputs": [
    {
     "name": "stdout",
     "output_type": "stream",
     "text": [
      "131/131 [==============================] - 0s 2ms/step\n"
     ]
    },
    {
     "data": {
      "image/png": "[encoded data removed]",
      "text/plain": [
       "<Figure size 432x288 with 1 Axes>"
      ]
     },
     "metadata": {
      "needs_background": "light"
     },
     "output_type": "display_data"
    }
   ],
   "source": [
    "pred = model.predict(test_vec) # 학습한 모델 model에 테스트 데이터 test_vec을 적용하고 출력값 pred를 확보한다.\n",
    "\n",
    "plt.plot(test_vec[:,0], label='test')\n",
    "plt.plot(pred[:,0], label='pred')\n",
    "plt.legend()\n",
    "plt.show()"
   ]
  },
  {
   "cell_type": "code",
   "execution_count": 17,
   "id": "911822f4",
   "metadata": {},
   "outputs": [
    {
     "data": {
      "image/png": "[encoded data removed]",
      "text/plain": [
       "<Figure size 432x288 with 1 Axes>"
      ]
     },
     "metadata": {
      "needs_background": "light"
     },
     "output_type": "display_data"
    }
   ],
   "source": [
    "dist = test_vec[:,0]-pred[:,0]\n",
    "dist = pow(dist, 2) # 양이나 음의 값을 취하기 때문에 제곱한다.\n",
    "dist = dist / np.max(dist) # 0과 1 사이로 정규화한다.\n",
    "\n",
    "plt.plot(dist)\n",
    "plt.show()"
   ]
  }
 ],
 "metadata": {
  "kernelspec": {
   "display_name": "Python 3 (ipykernel)",
   "language": "python",
   "name": "python3"
  },
  "language_info": {
   "codemirror_mode": {
    "name": "ipython",
    "version": 3
   },
   "file_extension": ".py",
   "mimetype": "text/x-python",
   "name": "python",
   "nbconvert_exporter": "python",
   "pygments_lexer": "ipython3",
   "version": "3.9.7"
  }
 },
 "nbformat": 4,
 "nbformat_minor": 5
}
