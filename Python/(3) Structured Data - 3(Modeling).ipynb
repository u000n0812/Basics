{
 "cells": [
  {
   "cell_type": "code",
   "execution_count": 1,
   "id": "690d04fe",
   "metadata": {},
   "outputs": [
    {
     "data": {
      "text/html": [
       "<div>\n",
       "<style scoped>\n",
       "    .dataframe tbody tr th:only-of-type {\n",
       "        vertical-align: middle;\n",
       "    }\n",
       "\n",
       "    .dataframe tbody tr th {\n",
       "        vertical-align: top;\n",
       "    }\n",
       "\n",
       "    .dataframe thead th {\n",
       "        text-align: right;\n",
       "    }\n",
       "</style>\n",
       "<table border=\"1\" class=\"dataframe\">\n",
       "  <thead>\n",
       "    <tr style=\"text-align: right;\">\n",
       "      <th></th>\n",
       "      <th>age</th>\n",
       "      <th>default</th>\n",
       "      <th>balance</th>\n",
       "      <th>housing</th>\n",
       "      <th>loan</th>\n",
       "      <th>day</th>\n",
       "      <th>duration</th>\n",
       "      <th>campaign</th>\n",
       "      <th>pdays</th>\n",
       "      <th>previous</th>\n",
       "      <th>...</th>\n",
       "      <th>dec</th>\n",
       "      <th>feb</th>\n",
       "      <th>jan</th>\n",
       "      <th>jul</th>\n",
       "      <th>jun</th>\n",
       "      <th>mar</th>\n",
       "      <th>may</th>\n",
       "      <th>nov</th>\n",
       "      <th>oct</th>\n",
       "      <th>sep</th>\n",
       "    </tr>\n",
       "  </thead>\n",
       "  <tbody>\n",
       "    <tr>\n",
       "      <th>0</th>\n",
       "      <td>58</td>\n",
       "      <td>0</td>\n",
       "      <td>2143</td>\n",
       "      <td>1</td>\n",
       "      <td>0</td>\n",
       "      <td>5</td>\n",
       "      <td>261</td>\n",
       "      <td>1</td>\n",
       "      <td>-1</td>\n",
       "      <td>0</td>\n",
       "      <td>...</td>\n",
       "      <td>0</td>\n",
       "      <td>0</td>\n",
       "      <td>0</td>\n",
       "      <td>0</td>\n",
       "      <td>0</td>\n",
       "      <td>0</td>\n",
       "      <td>1</td>\n",
       "      <td>0</td>\n",
       "      <td>0</td>\n",
       "      <td>0</td>\n",
       "    </tr>\n",
       "    <tr>\n",
       "      <th>1</th>\n",
       "      <td>36</td>\n",
       "      <td>0</td>\n",
       "      <td>265</td>\n",
       "      <td>1</td>\n",
       "      <td>1</td>\n",
       "      <td>5</td>\n",
       "      <td>348</td>\n",
       "      <td>1</td>\n",
       "      <td>-1</td>\n",
       "      <td>0</td>\n",
       "      <td>...</td>\n",
       "      <td>0</td>\n",
       "      <td>0</td>\n",
       "      <td>0</td>\n",
       "      <td>0</td>\n",
       "      <td>0</td>\n",
       "      <td>0</td>\n",
       "      <td>1</td>\n",
       "      <td>0</td>\n",
       "      <td>0</td>\n",
       "      <td>0</td>\n",
       "    </tr>\n",
       "    <tr>\n",
       "      <th>2</th>\n",
       "      <td>25</td>\n",
       "      <td>0</td>\n",
       "      <td>-7</td>\n",
       "      <td>1</td>\n",
       "      <td>0</td>\n",
       "      <td>5</td>\n",
       "      <td>365</td>\n",
       "      <td>1</td>\n",
       "      <td>-1</td>\n",
       "      <td>0</td>\n",
       "      <td>...</td>\n",
       "      <td>0</td>\n",
       "      <td>0</td>\n",
       "      <td>0</td>\n",
       "      <td>0</td>\n",
       "      <td>0</td>\n",
       "      <td>0</td>\n",
       "      <td>1</td>\n",
       "      <td>0</td>\n",
       "      <td>0</td>\n",
       "      <td>0</td>\n",
       "    </tr>\n",
       "    <tr>\n",
       "      <th>3</th>\n",
       "      <td>53</td>\n",
       "      <td>0</td>\n",
       "      <td>-3</td>\n",
       "      <td>0</td>\n",
       "      <td>0</td>\n",
       "      <td>5</td>\n",
       "      <td>1666</td>\n",
       "      <td>1</td>\n",
       "      <td>-1</td>\n",
       "      <td>0</td>\n",
       "      <td>...</td>\n",
       "      <td>0</td>\n",
       "      <td>0</td>\n",
       "      <td>0</td>\n",
       "      <td>0</td>\n",
       "      <td>0</td>\n",
       "      <td>0</td>\n",
       "      <td>1</td>\n",
       "      <td>0</td>\n",
       "      <td>0</td>\n",
       "      <td>0</td>\n",
       "    </tr>\n",
       "    <tr>\n",
       "      <th>4</th>\n",
       "      <td>24</td>\n",
       "      <td>0</td>\n",
       "      <td>-103</td>\n",
       "      <td>1</td>\n",
       "      <td>1</td>\n",
       "      <td>5</td>\n",
       "      <td>145</td>\n",
       "      <td>1</td>\n",
       "      <td>-1</td>\n",
       "      <td>0</td>\n",
       "      <td>...</td>\n",
       "      <td>0</td>\n",
       "      <td>0</td>\n",
       "      <td>0</td>\n",
       "      <td>0</td>\n",
       "      <td>0</td>\n",
       "      <td>0</td>\n",
       "      <td>1</td>\n",
       "      <td>0</td>\n",
       "      <td>0</td>\n",
       "      <td>0</td>\n",
       "    </tr>\n",
       "  </tbody>\n",
       "</table>\n",
       "<p>5 rows × 32 columns</p>\n",
       "</div>"
      ],
      "text/plain": [
       "   age  default  balance  housing  loan  day  duration  campaign  pdays  \\\n",
       "0   58        0     2143        1     0    5       261         1     -1   \n",
       "1   36        0      265        1     1    5       348         1     -1   \n",
       "2   25        0       -7        1     0    5       365         1     -1   \n",
       "3   53        0       -3        0     0    5      1666         1     -1   \n",
       "4   24        0     -103        1     1    5       145         1     -1   \n",
       "\n",
       "   previous  ...  dec  feb  jan  jul  jun  mar  may  nov  oct  sep  \n",
       "0         0  ...    0    0    0    0    0    0    1    0    0    0  \n",
       "1         0  ...    0    0    0    0    0    0    1    0    0    0  \n",
       "2         0  ...    0    0    0    0    0    0    1    0    0    0  \n",
       "3         0  ...    0    0    0    0    0    0    1    0    0    0  \n",
       "4         0  ...    0    0    0    0    0    0    1    0    0    0  \n",
       "\n",
       "[5 rows x 32 columns]"
      ]
     },
     "execution_count": 1,
     "metadata": {},
     "output_type": "execute_result"
    }
   ],
   "source": [
    "import pandas as pd\n",
    "\n",
    "bank_df_new = pd.read_csv('bank-prep.csv', sep=',')\n",
    "bank_df_new.head()"
   ]
  },
  {
   "cell_type": "code",
   "execution_count": 2,
   "id": "c92fb65a",
   "metadata": {},
   "outputs": [],
   "source": [
    "# imbalanced-learn 패키지 설치\n",
    "# pip list로 확인"
   ]
  },
  {
   "cell_type": "code",
   "execution_count": 6,
   "id": "961b6aa3",
   "metadata": {},
   "outputs": [
    {
     "name": "stdout",
     "output_type": "stream",
     "text": [
      "820 6113\n",
      "820 820\n"
     ]
    }
   ],
   "source": [
    "import numpy as np\n",
    "from imblearn.under_sampling import RandomUnderSampler\n",
    "\n",
    "X = np.array(bank_df_new.drop('y', axis=1)) # y를 제외하고 설명변수를 만들어 X로 만든다.\n",
    "Y = np.array(bank_df_new['y']) # y만 설명변수로 Y를 만든다.\n",
    "print(np.sum(Y==1), np.sum(Y==0))\n",
    "\n",
    "sampler = RandomUnderSampler(random_state=42) # 샘플링 조건은 랜덤 샘플링으로 설정한다.\n",
    "X, Y = sampler.fit_resample(X,Y) # X와 Y를 설정한 조건에 맞춰 샘플링한다.\n",
    "print(np.sum(Y==1), np.sum(Y==0)) # 언더 샘플링(소수로 개수를 맞춤)으로 y가 1인 것과 y가 0인 건수를 820으로 균형맞춘다."
   ]
  },
  {
   "cell_type": "code",
   "execution_count": 9,
   "id": "41570f7b",
   "metadata": {},
   "outputs": [
    {
     "name": "stdout",
     "output_type": "stream",
     "text": [
      "820 6113\n",
      "6113 6113\n"
     ]
    }
   ],
   "source": [
    "from imblearn.over_sampling import RandomOverSampler\n",
    "\n",
    "X = np.array(bank_df_new.drop('y', axis=1))\n",
    "Y = np.array(bank_df_new[['y',]])\n",
    "print(np.sum(Y==1), np.sum(Y==0))\n",
    "\n",
    "sampler = RandomOverSampler(random_state=42) # 오버샘플링에서 랜덤샘플링으로 설정한다. 42는 R에서 set.seed와 같다고 보면 된다.\n",
    "X,Y = sampler.fit_resample(X,Y)\n",
    "print(np.sum(Y==1), np.sum(Y==0))"
   ]
  },
  {
   "cell_type": "code",
   "execution_count": 11,
   "id": "4398c88a",
   "metadata": {},
   "outputs": [],
   "source": [
    "# 언더샘플링, 오버샘플링처럼 복사하지 않고 보완하는 방법으로는 SMOTE 기법이 있다."
   ]
  },
  {
   "cell_type": "code",
   "execution_count": 18,
   "id": "80a3eb2a",
   "metadata": {},
   "outputs": [
    {
     "name": "stdout",
     "output_type": "stream",
     "text": [
      "0.9577943480989705 0.004720355826538062\n"
     ]
    }
   ],
   "source": [
    "from sklearn.model_selection import KFold # k-fold 교차검증\n",
    "from sklearn import tree # 결정 트리 알고리즘\n",
    "from sklearn.metrics import accuracy_score # 성능 계산을 위한 클래스\n",
    "\n",
    "kf = KFold(n_splits=10, shuffle=True) # K-fold로 교차검증 실시. 데이터 분할 수는 10, 데이터 세트는 재생 가능하도록 설정했다.\n",
    "scores=[]\n",
    "\n",
    "for train_id, test_id in kf.split(X): # 훈련 데이터, 테스트 데이터의 조합을 바꿔가며 모델을 작성하고 성능을 확인한다.\n",
    "    x = X[train_id]\n",
    "    y = Y[train_id]\n",
    "    clf = tree.DecisionTreeClassifier() # 분류를 위해 결정 트리 인스턴스 clf를 생성한다.\n",
    "    clf.fit(x,y) # 결정 트리 모델을 만든다. criterion으로 지니 계수와 정보소득 중 설정할 수 있다.\n",
    "    pred_y = clf.predict(X[test_id]) # 작성한 모델에 테스트 데이터를 적용하고 결과를 얻는다.\n",
    "    score = accuracy_score(Y[test_id], pred_y) # 결과, 정답, 오답 수로부터 모델 성능을 계산한다.\n",
    "    scores.append(score)\n",
    "    \n",
    "scores = np.array(scores)\n",
    "print(scores.mean(), scores.std()) # 모델의 평균 성능과 표준편차를 계산한다."
   ]
  },
  {
   "cell_type": "code",
   "execution_count": 19,
   "id": "7bcf55da",
   "metadata": {},
   "outputs": [
    {
     "name": "stdout",
     "output_type": "stream",
     "text": [
      "1.0\n",
      "0.9287878787878788\n"
     ]
    }
   ],
   "source": [
    "from sklearn.metrics import recall_score\n",
    "from sklearn.metrics import precision_score\n",
    "\n",
    "print(recall_score(Y[test_id], pred_y)) # 재현율 계산\n",
    "print(precision_score(Y[test_id], pred_y)) # 적합율 계산"
   ]
  },
  {
   "cell_type": "code",
   "execution_count": 20,
   "id": "799d26b4",
   "metadata": {},
   "outputs": [
    {
     "name": "stdout",
     "output_type": "stream",
     "text": [
      "DecisionTreeClassifier()\n"
     ]
    }
   ],
   "source": [
    "print(clf)"
   ]
  },
  {
   "cell_type": "code",
   "execution_count": 22,
   "id": "179e8e68",
   "metadata": {},
   "outputs": [
    {
     "data": {
      "text/html": [
       "<style>#sk-container-id-1 {color: black;background-color: white;}#sk-container-id-1 pre{padding: 0;}#sk-container-id-1 div.sk-toggleable {background-color: white;}#sk-container-id-1 label.sk-toggleable__label {cursor: pointer;display: block;width: 100%;margin-bottom: 0;padding: 0.3em;box-sizing: border-box;text-align: center;}#sk-container-id-1 label.sk-toggleable__label-arrow:before {content: \"▸\";float: left;margin-right: 0.25em;color: #696969;}#sk-container-id-1 label.sk-toggleable__label-arrow:hover:before {color: black;}#sk-container-id-1 div.sk-estimator:hover label.sk-toggleable__label-arrow:before {color: black;}#sk-container-id-1 div.sk-toggleable__content {max-height: 0;max-width: 0;overflow: hidden;text-align: left;background-color: #f0f8ff;}#sk-container-id-1 div.sk-toggleable__content pre {margin: 0.2em;color: black;border-radius: 0.25em;background-color: #f0f8ff;}#sk-container-id-1 input.sk-toggleable__control:checked~div.sk-toggleable__content {max-height: 200px;max-width: 100%;overflow: auto;}#sk-container-id-1 input.sk-toggleable__control:checked~label.sk-toggleable__label-arrow:before {content: \"▾\";}#sk-container-id-1 div.sk-estimator input.sk-toggleable__control:checked~label.sk-toggleable__label {background-color: #d4ebff;}#sk-container-id-1 div.sk-label input.sk-toggleable__control:checked~label.sk-toggleable__label {background-color: #d4ebff;}#sk-container-id-1 input.sk-hidden--visually {border: 0;clip: rect(1px 1px 1px 1px);clip: rect(1px, 1px, 1px, 1px);height: 1px;margin: -1px;overflow: hidden;padding: 0;position: absolute;width: 1px;}#sk-container-id-1 div.sk-estimator {font-family: monospace;background-color: #f0f8ff;border: 1px dotted black;border-radius: 0.25em;box-sizing: border-box;margin-bottom: 0.5em;}#sk-container-id-1 div.sk-estimator:hover {background-color: #d4ebff;}#sk-container-id-1 div.sk-parallel-item::after {content: \"\";width: 100%;border-bottom: 1px solid gray;flex-grow: 1;}#sk-container-id-1 div.sk-label:hover label.sk-toggleable__label {background-color: #d4ebff;}#sk-container-id-1 div.sk-serial::before {content: \"\";position: absolute;border-left: 1px solid gray;box-sizing: border-box;top: 0;bottom: 0;left: 50%;z-index: 0;}#sk-container-id-1 div.sk-serial {display: flex;flex-direction: column;align-items: center;background-color: white;padding-right: 0.2em;padding-left: 0.2em;position: relative;}#sk-container-id-1 div.sk-item {position: relative;z-index: 1;}#sk-container-id-1 div.sk-parallel {display: flex;align-items: stretch;justify-content: center;background-color: white;position: relative;}#sk-container-id-1 div.sk-item::before, #sk-container-id-1 div.sk-parallel-item::before {content: \"\";position: absolute;border-left: 1px solid gray;box-sizing: border-box;top: 0;bottom: 0;left: 50%;z-index: -1;}#sk-container-id-1 div.sk-parallel-item {display: flex;flex-direction: column;z-index: 1;position: relative;background-color: white;}#sk-container-id-1 div.sk-parallel-item:first-child::after {align-self: flex-end;width: 50%;}#sk-container-id-1 div.sk-parallel-item:last-child::after {align-self: flex-start;width: 50%;}#sk-container-id-1 div.sk-parallel-item:only-child::after {width: 0;}#sk-container-id-1 div.sk-dashed-wrapped {border: 1px dashed gray;margin: 0 0.4em 0.5em 0.4em;box-sizing: border-box;padding-bottom: 0.4em;background-color: white;}#sk-container-id-1 div.sk-label label {font-family: monospace;font-weight: bold;display: inline-block;line-height: 1.2em;}#sk-container-id-1 div.sk-label-container {text-align: center;}#sk-container-id-1 div.sk-container {/* jupyter's `normalize.less` sets `[hidden] { display: none; }` but bootstrap.min.css set `[hidden] { display: none !important; }` so we also need the `!important` here to be able to override the default hidden behavior on the sphinx rendered scikit-learn.org. See: https://github.com/scikit-learn/scikit-learn/issues/21755 */display: inline-block !important;position: relative;}#sk-container-id-1 div.sk-text-repr-fallback {display: none;}</style><div id=\"sk-container-id-1\" class=\"sk-top-container\"><div class=\"sk-text-repr-fallback\"><pre>GridSearchCV(cv=KFold(n_splits=10, random_state=None, shuffle=True),\n",
       "             estimator=DecisionTreeClassifier(),\n",
       "             param_grid={&#x27;criterion&#x27;: [&#x27;entropy&#x27;],\n",
       "                         &#x27;max_depth&#x27;: [2, 4, 6, 8, 10],\n",
       "                         &#x27;min_samples_leaf&#x27;: [10, 20, 30, 40, 50]},\n",
       "             scoring=&#x27;accuracy&#x27;)</pre><b>In a Jupyter environment, please rerun this cell to show the HTML representation or trust the notebook. <br />On GitHub, the HTML representation is unable to render, please try loading this page with nbviewer.org.</b></div><div class=\"sk-container\" hidden><div class=\"sk-item sk-dashed-wrapped\"><div class=\"sk-label-container\"><div class=\"sk-label sk-toggleable\"><input class=\"sk-toggleable__control sk-hidden--visually\" id=\"sk-estimator-id-1\" type=\"checkbox\" ><label for=\"sk-estimator-id-1\" class=\"sk-toggleable__label sk-toggleable__label-arrow\">GridSearchCV</label><div class=\"sk-toggleable__content\"><pre>GridSearchCV(cv=KFold(n_splits=10, random_state=None, shuffle=True),\n",
       "             estimator=DecisionTreeClassifier(),\n",
       "             param_grid={&#x27;criterion&#x27;: [&#x27;entropy&#x27;],\n",
       "                         &#x27;max_depth&#x27;: [2, 4, 6, 8, 10],\n",
       "                         &#x27;min_samples_leaf&#x27;: [10, 20, 30, 40, 50]},\n",
       "             scoring=&#x27;accuracy&#x27;)</pre></div></div></div><div class=\"sk-parallel\"><div class=\"sk-parallel-item\"><div class=\"sk-item\"><div class=\"sk-label-container\"><div class=\"sk-label sk-toggleable\"><input class=\"sk-toggleable__control sk-hidden--visually\" id=\"sk-estimator-id-2\" type=\"checkbox\" ><label for=\"sk-estimator-id-2\" class=\"sk-toggleable__label sk-toggleable__label-arrow\">estimator: DecisionTreeClassifier</label><div class=\"sk-toggleable__content\"><pre>DecisionTreeClassifier()</pre></div></div></div><div class=\"sk-serial\"><div class=\"sk-item\"><div class=\"sk-estimator sk-toggleable\"><input class=\"sk-toggleable__control sk-hidden--visually\" id=\"sk-estimator-id-3\" type=\"checkbox\" ><label for=\"sk-estimator-id-3\" class=\"sk-toggleable__label sk-toggleable__label-arrow\">DecisionTreeClassifier</label><div class=\"sk-toggleable__content\"><pre>DecisionTreeClassifier()</pre></div></div></div></div></div></div></div></div></div></div>"
      ],
      "text/plain": [
       "GridSearchCV(cv=KFold(n_splits=10, random_state=None, shuffle=True),\n",
       "             estimator=DecisionTreeClassifier(),\n",
       "             param_grid={'criterion': ['entropy'],\n",
       "                         'max_depth': [2, 4, 6, 8, 10],\n",
       "                         'min_samples_leaf': [10, 20, 30, 40, 50]},\n",
       "             scoring='accuracy')"
      ]
     },
     "execution_count": 22,
     "metadata": {},
     "output_type": "execute_result"
    }
   ],
   "source": [
    "from sklearn.model_selection import GridSearchCV\n",
    "\n",
    "params = {\n",
    "    'criterion' : ['entropy'], # Criterion은 entropy로 고정한다.\n",
    "    'max_depth' : [2, 4, 6, 8, 10], # 트리의 최대 심도는 2~10으로 설정한다.\n",
    "    'min_samples_leaf' : [10, 20, 30, 40, 50], # 잎사귀의 최소 데이터 수는 10~50 사이로 설정한다.\n",
    "}\n",
    "\n",
    "clf_gs = GridSearchCV(tree.DecisionTreeClassifier(), params, cv=KFold(n_splits=10, shuffle=True), scoring='accuracy')\n",
    "clf_gs.fit(X,Y) # 그리드 서치를 시행한다.\n",
    "# 그리드 서치를 위해 tree의 결정트리 알고리즘을 선택하고 두 번째 인자에는 탐색하는 파라미터 세트, 세 번째 인자에는 검증 방법으로 K-fold를,\n",
    "# 네 번째 인자에는 모델의 성능을 평가할 방법을 입력한다."
   ]
  },
  {
   "cell_type": "code",
   "execution_count": 23,
   "id": "635a764b",
   "metadata": {},
   "outputs": [
    {
     "name": "stdout",
     "output_type": "stream",
     "text": [
      "0.8792726158342623\n",
      "{'criterion': 'entropy', 'max_depth': 10, 'min_samples_leaf': 10}\n"
     ]
    }
   ],
   "source": [
    "print(clf_gs.best_score_)\n",
    "print(clf_gs.best_params_) # 성능이 가장 높을 때 파라미터 조합을 본다."
   ]
  },
  {
   "cell_type": "code",
   "execution_count": 24,
   "id": "98d92cfb",
   "metadata": {},
   "outputs": [
    {
     "name": "stdout",
     "output_type": "stream",
     "text": [
      "[0.04208994 0.         0.02961642 0.06148108 0.00793889 0.06043362\n",
      " 0.46208751 0.02773472 0.06490717 0.01956213 0.00823472 0.00408983\n",
      " 0.         0.00119321 0.00264274 0.0014427  0.         0.00151272\n",
      " 0.07440701 0.01534894 0.01661489 0.         0.01695639 0.\n",
      " 0.01862156 0.00141732 0.00965328 0.03417428 0.00913853 0.00870042\n",
      " 0.        ]\n"
     ]
    }
   ],
   "source": [
    "clf_best = tree.DecisionTreeClassifier(criterion = 'entropy', max_depth = 10, min_samples_leaf = 20)\n",
    "clf_best.fit(X,Y)\n",
    "\n",
    "print(clf_best.feature_importances_) # feature_importances로 모든 변수의 결과에 대한 영향력을 표시한다. 가장 영향력 높은 변수를 본다."
   ]
  },
  {
   "cell_type": "code",
   "execution_count": null,
   "id": "c4aca14b",
   "metadata": {},
   "outputs": [],
   "source": []
  }
 ],
 "metadata": {
  "kernelspec": {
   "display_name": "Python 3 (ipykernel)",
   "language": "python",
   "name": "python3"
  },
  "language_info": {
   "codemirror_mode": {
    "name": "ipython",
    "version": 3
   },
   "file_extension": ".py",
   "mimetype": "text/x-python",
   "name": "python",
   "nbconvert_exporter": "python",
   "pygments_lexer": "ipython3",
   "version": "3.9.7"
  }
 },
 "nbformat": 4,
 "nbformat_minor": 5
}
